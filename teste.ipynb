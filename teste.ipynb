{
 "cells": [
  {
   "cell_type": "code",
   "execution_count": 1,
   "metadata": {},
   "outputs": [],
   "source": [
    "import pandas as pd\n"
   ]
  },
  {
   "cell_type": "code",
   "execution_count": 8,
   "metadata": {},
   "outputs": [
    {
     "data": {
      "text/html": [
       "<div>\n",
       "<style scoped>\n",
       "    .dataframe tbody tr th:only-of-type {\n",
       "        vertical-align: middle;\n",
       "    }\n",
       "\n",
       "    .dataframe tbody tr th {\n",
       "        vertical-align: top;\n",
       "    }\n",
       "\n",
       "    .dataframe thead th {\n",
       "        text-align: right;\n",
       "    }\n",
       "</style>\n",
       "<table border=\"1\" class=\"dataframe\">\n",
       "  <thead>\n",
       "    <tr style=\"text-align: right;\">\n",
       "      <th></th>\n",
       "      <th>Company</th>\n",
       "      <th>Sector</th>\n",
       "      <th>Open</th>\n",
       "      <th>High</th>\n",
       "      <th>Low</th>\n",
       "      <th>Close</th>\n",
       "      <th>Volume</th>\n",
       "      <th>Market_Cap</th>\n",
       "      <th>PE_Ratio</th>\n",
       "      <th>Dividend_Yield</th>\n",
       "      <th>Volatility</th>\n",
       "      <th>Sentiment_Score</th>\n",
       "      <th>Trend</th>\n",
       "    </tr>\n",
       "    <tr>\n",
       "      <th>Date</th>\n",
       "      <th></th>\n",
       "      <th></th>\n",
       "      <th></th>\n",
       "      <th></th>\n",
       "      <th></th>\n",
       "      <th></th>\n",
       "      <th></th>\n",
       "      <th></th>\n",
       "      <th></th>\n",
       "      <th></th>\n",
       "      <th></th>\n",
       "      <th></th>\n",
       "      <th></th>\n",
       "    </tr>\n",
       "  </thead>\n",
       "  <tbody>\n",
       "    <tr>\n",
       "      <th>2022-01-01</th>\n",
       "      <td>Uber</td>\n",
       "      <td>Technology</td>\n",
       "      <td>100.000000</td>\n",
       "      <td>101.036120</td>\n",
       "      <td>97.477809</td>\n",
       "      <td>100.000000</td>\n",
       "      <td>171958</td>\n",
       "      <td>5.156585e+11</td>\n",
       "      <td>24.253218</td>\n",
       "      <td>0.163090</td>\n",
       "      <td>0.047484</td>\n",
       "      <td>0.939232</td>\n",
       "      <td>Bearish</td>\n",
       "    </tr>\n",
       "    <tr>\n",
       "      <th>2022-01-02</th>\n",
       "      <td>Tesla</td>\n",
       "      <td>Automotive</td>\n",
       "      <td>100.071106</td>\n",
       "      <td>102.037960</td>\n",
       "      <td>97.152675</td>\n",
       "      <td>100.071106</td>\n",
       "      <td>196867</td>\n",
       "      <td>9.755658e+11</td>\n",
       "      <td>18.602848</td>\n",
       "      <td>0.288515</td>\n",
       "      <td>0.022472</td>\n",
       "      <td>0.469417</td>\n",
       "      <td>Bearish</td>\n",
       "    </tr>\n",
       "    <tr>\n",
       "      <th>2022-01-03</th>\n",
       "      <td>Panasonic</td>\n",
       "      <td>Finance</td>\n",
       "      <td>99.857828</td>\n",
       "      <td>101.517497</td>\n",
       "      <td>98.108097</td>\n",
       "      <td>99.857828</td>\n",
       "      <td>181932</td>\n",
       "      <td>4.595300e+11</td>\n",
       "      <td>10.728933</td>\n",
       "      <td>2.221827</td>\n",
       "      <td>0.019991</td>\n",
       "      <td>0.399193</td>\n",
       "      <td>Bullish</td>\n",
       "    </tr>\n",
       "    <tr>\n",
       "      <th>2022-01-04</th>\n",
       "      <td>Tencent</td>\n",
       "      <td>Automotive</td>\n",
       "      <td>98.851663</td>\n",
       "      <td>101.303783</td>\n",
       "      <td>96.998218</td>\n",
       "      <td>98.851663</td>\n",
       "      <td>153694</td>\n",
       "      <td>5.577481e+11</td>\n",
       "      <td>14.582696</td>\n",
       "      <td>1.377740</td>\n",
       "      <td>0.036166</td>\n",
       "      <td>0.705853</td>\n",
       "      <td>Stable</td>\n",
       "    </tr>\n",
       "    <tr>\n",
       "      <th>2022-01-05</th>\n",
       "      <td>Wells Fargo</td>\n",
       "      <td>Automotive</td>\n",
       "      <td>98.391118</td>\n",
       "      <td>99.990486</td>\n",
       "      <td>96.230707</td>\n",
       "      <td>98.391118</td>\n",
       "      <td>169879</td>\n",
       "      <td>8.607714e+11</td>\n",
       "      <td>37.491114</td>\n",
       "      <td>3.110198</td>\n",
       "      <td>0.034770</td>\n",
       "      <td>-0.768354</td>\n",
       "      <td>Stable</td>\n",
       "    </tr>\n",
       "  </tbody>\n",
       "</table>\n",
       "</div>"
      ],
      "text/plain": [
       "                Company      Sector        Open        High        Low  \\\n",
       "Date                                                                     \n",
       "2022-01-01         Uber  Technology  100.000000  101.036120  97.477809   \n",
       "2022-01-02        Tesla  Automotive  100.071106  102.037960  97.152675   \n",
       "2022-01-03    Panasonic     Finance   99.857828  101.517497  98.108097   \n",
       "2022-01-04      Tencent  Automotive   98.851663  101.303783  96.998218   \n",
       "2022-01-05  Wells Fargo  Automotive   98.391118   99.990486  96.230707   \n",
       "\n",
       "                 Close  Volume    Market_Cap   PE_Ratio  Dividend_Yield  \\\n",
       "Date                                                                      \n",
       "2022-01-01  100.000000  171958  5.156585e+11  24.253218        0.163090   \n",
       "2022-01-02  100.071106  196867  9.755658e+11  18.602848        0.288515   \n",
       "2022-01-03   99.857828  181932  4.595300e+11  10.728933        2.221827   \n",
       "2022-01-04   98.851663  153694  5.577481e+11  14.582696        1.377740   \n",
       "2022-01-05   98.391118  169879  8.607714e+11  37.491114        3.110198   \n",
       "\n",
       "            Volatility  Sentiment_Score    Trend  \n",
       "Date                                              \n",
       "2022-01-01    0.047484         0.939232  Bearish  \n",
       "2022-01-02    0.022472         0.469417  Bearish  \n",
       "2022-01-03    0.019991         0.399193  Bullish  \n",
       "2022-01-04    0.036166         0.705853   Stable  \n",
       "2022-01-05    0.034770        -0.768354   Stable  "
      ]
     },
     "execution_count": 8,
     "metadata": {},
     "output_type": "execute_result"
    }
   ],
   "source": [
    "Db = pd.read_csv(\"DadosB.csv\", index_col='Date', parse_dates=True)\n",
    "\n",
    "Db.head(5)  "
   ]
  },
  {
   "cell_type": "code",
   "execution_count": 10,
   "metadata": {},
   "outputs": [
    {
     "data": {
      "text/plain": [
       "<pandas.core.groupby.generic.DataFrameGroupBy object at 0x00000199B8674B90>"
      ]
     },
     "execution_count": 10,
     "metadata": {},
     "output_type": "execute_result"
    }
   ],
   "source": [
    "Db.groupby(\"Sector\")"
   ]
  },
  {
   "cell_type": "code",
   "execution_count": 11,
   "metadata": {},
   "outputs": [],
   "source": [
    "sector = Db.groupby(\"Sector\")"
   ]
  },
  {
   "cell_type": "code",
   "execution_count": 12,
   "metadata": {},
   "outputs": [
    {
     "data": {
      "text/plain": [
       "7"
      ]
     },
     "execution_count": 12,
     "metadata": {},
     "output_type": "execute_result"
    }
   ],
   "source": [
    "len(sector)"
   ]
  },
  {
   "cell_type": "code",
   "execution_count": 23,
   "metadata": {},
   "outputs": [
    {
     "data": {
      "text/plain": [
       "Sector\n",
       "Aerospace         146\n",
       "Automotive        145\n",
       "Consumer Goods    143\n",
       "Energy            140\n",
       "Finance           128\n",
       "Healthcare        152\n",
       "Technology        146\n",
       "dtype: int64"
      ]
     },
     "execution_count": 23,
     "metadata": {},
     "output_type": "execute_result"
    }
   ],
   "source": [
    "sector.size()\n",
    "#sector.get_group(\"Finance\").head(5)"
   ]
  },
  {
   "cell_type": "code",
   "execution_count": 24,
   "metadata": {},
   "outputs": [
    {
     "data": {
      "text/plain": [
       "Sector\n",
       "Healthcare        152\n",
       "Aerospace         146\n",
       "Technology        146\n",
       "Automotive        145\n",
       "Consumer Goods    143\n",
       "Energy            140\n",
       "Finance           128\n",
       "Name: count, dtype: int64"
      ]
     },
     "execution_count": 24,
     "metadata": {},
     "output_type": "execute_result"
    }
   ],
   "source": [
    "Db[\"Sector\"].value_counts()\n"
   ]
  },
  {
   "cell_type": "code",
   "execution_count": 40,
   "metadata": {},
   "outputs": [
    {
     "data": {
      "text/plain": [
       "Trend\n",
       "Bullish    49\n",
       "Stable     42\n",
       "Bearish    37\n",
       "Name: count, dtype: int64"
      ]
     },
     "execution_count": 40,
     "metadata": {},
     "output_type": "execute_result"
    }
   ],
   "source": [
    "Db.loc[Db[\"Sector\"] == \"Finance\", \"Trend\"].value_counts()\n",
    " "
   ]
  },
  {
   "cell_type": "code",
   "execution_count": null,
   "metadata": {},
   "outputs": [],
   "source": []
  }
 ],
 "metadata": {
  "kernelspec": {
   "display_name": "Python 3",
   "language": "python",
   "name": "python3"
  },
  "language_info": {
   "codemirror_mode": {
    "name": "ipython",
    "version": 3
   },
   "file_extension": ".py",
   "mimetype": "text/x-python",
   "name": "python",
   "nbconvert_exporter": "python",
   "pygments_lexer": "ipython3",
   "version": "3.13.2"
  }
 },
 "nbformat": 4,
 "nbformat_minor": 2
}
